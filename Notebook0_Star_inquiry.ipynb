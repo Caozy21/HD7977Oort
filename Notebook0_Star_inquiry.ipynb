{
 "cells": [
  {
   "cell_type": "markdown",
   "metadata": {},
   "source": [
    "## A convenient way to inquire Simbad\n",
    "\n",
    "Using this notebook, you can get the position and velocity of a star in Heliocentric Mean Ecliptic Cartesian coordinates by entering its name."
   ]
  },
  {
   "cell_type": "code",
   "execution_count": 1,
   "metadata": {},
   "outputs": [],
   "source": [
    "from astroquery.simbad import Simbad\n",
    "from astropy.coordinates import SkyCoord\n",
    "import astropy.units as u\n",
    "import numpy as np\n",
    "\n"
   ]
  },
  {
   "cell_type": "code",
   "execution_count": 2,
   "metadata": {},
   "outputs": [],
   "source": [
    "stellar_name = 'HD 7977' # 'Gliese 710'"
   ]
  },
  {
   "cell_type": "code",
   "execution_count": 3,
   "metadata": {},
   "outputs": [
    {
     "name": "stdout",
     "output_type": "stream",
     "text": [
      "The position of HD 7977 in Heliocentric Mean Ecliptic Cartesian coordinates (x, y, z):\n",
      "[ 6908192.15169089  7800658.4339682  11626104.95499581] AU\n",
      "The velocity of HD 7977 in Heliocentric Mean Ecliptic Cartesian coordinates (vx, vy, vz):\n",
      "[11.67373463 13.27281649 19.67970122] km / s\n"
     ]
    }
   ],
   "source": [
    "custom_simbad = Simbad()\n",
    "custom_simbad.add_votable_fields('parallax', 'rv_value', \n",
    "                                'pmra', 'pmdec')\n",
    "\n",
    "result = custom_simbad.query_object(str(stellar_name))\n",
    "\n",
    "if result is None:\n",
    "    print(\"Cannot find the data of\" + str(stellar_name))\n",
    "else:\n",
    "    # Extract RA, Dec, parallax, radial velocity (rv_value), and proper motion (pmra, pmdec)\n",
    "    ra = result['RA'][0]  # 'hh mm ss'\n",
    "    dec = result['DEC'][0]  # 'dd mm ss'\n",
    "    parallax = result['PLX_VALUE'][0]  # milliarcseconds (mas)\n",
    "    rv = result['RV_VALUE'][0] * u.km / u.s  # radial velocity (km/s)\n",
    "    pm_ra = result['PMRA'][0] * u.mas / u.yr  # proper motion in RA direction (mas/yr)\n",
    "    pm_dec = result['PMDEC'][0] * u.mas / u.yr   # proper motion in Dec direction (mas/yr)\n",
    "\n",
    "    # Calculate distance: parallax (mas) to distance (pc)\n",
    "    distance = (1000 / parallax) * u.pc\n",
    "\n",
    "    # Calculate total proper motion (angular velocity)\n",
    "    proper_motion = np.sqrt(pm_ra**2 + pm_dec**2)  # mas/yr\n",
    "\n",
    "    # Create SkyCoord object, including radial velocity and distance\n",
    "    stellar = SkyCoord(ra=ra, dec=dec, unit=(u.hourangle, u.deg), \n",
    "                    distance=distance, pm_ra_cosdec=pm_ra, pm_dec=pm_dec, \n",
    "                    radial_velocity=rv, frame='icrs')\n",
    "    \n",
    "    # Transform to heliocentric mean ecliptic\n",
    "    stellar_helio = stellar.transform_to('heliocentricmeanecliptic')\n",
    "    \n",
    "    # Convert position and velocity to Cartesian coordinates\n",
    "    pos = stellar_helio.cartesian.xyz.to(u.AU)\n",
    "    vel = stellar_helio.velocity.d_xyz.to(u.km/u.s)\n",
    "    \n",
    "    print(f\"The position of \" + str(stellar_name) + \" in Heliocentric Mean Ecliptic Cartesian coordinates (x, y, z):\")\n",
    "    print(pos)\n",
    "    print(f\"The velocity of \" + str(stellar_name) + \" in Heliocentric Mean Ecliptic Cartesian coordinates (vx, vy, vz):\")\n",
    "    print(vel)\n",
    "\n"
   ]
  }
 ],
 "metadata": {
  "kernelspec": {
   "display_name": "Python 3",
   "language": "python",
   "name": "python3"
  },
  "language_info": {
   "codemirror_mode": {
    "name": "ipython",
    "version": 3
   },
   "file_extension": ".py",
   "mimetype": "text/x-python",
   "name": "python",
   "nbconvert_exporter": "python",
   "pygments_lexer": "ipython3",
   "version": "3.9.13"
  }
 },
 "nbformat": 4,
 "nbformat_minor": 2
}
